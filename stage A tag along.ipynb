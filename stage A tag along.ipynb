{
 "cells": [
  {
   "cell_type": "code",
   "execution_count": null,
   "metadata": {},
   "outputs": [],
   "source": [
    "import pandas as pd\n",
    "import numpy as np\n",
    "import matplotlib.pyplot as plt\n",
    "import seaborn as sns"
   ]
  },
  {
   "cell_type": "code",
   "execution_count": null,
   "metadata": {},
   "outputs": [],
   "source": [
    "#Load Dataset\n",
    "df = pd.read_csv(\"C:\\Users\\HP\\Downloads\\FoodBalanceSheets_E_Africa_NOFLAG.csv\", encoding = \"latin-1\")"
   ]
  },
  {
   "cell_type": "code",
   "execution_count": null,
   "metadata": {},
   "outputs": [],
   "source": [
    "df.describe()"
   ]
  },
  {
   "cell_type": "code",
   "execution_count": null,
   "metadata": {},
   "outputs": [],
   "source": [
    "df"
   ]
  },
  {
   "cell_type": "code",
   "execution_count": null,
   "metadata": {},
   "outputs": [],
   "source": [
    "df.shape"
   ]
  },
  {
   "cell_type": "code",
   "execution_count": null,
   "metadata": {},
   "outputs": [],
   "source": [
    "df.columns"
   ]
  },
  {
   "cell_type": "code",
   "execution_count": null,
   "metadata": {},
   "outputs": [],
   "source": [
    "#Q1\n",
    "# select Columns 'Y2017' and 'Area', Perform a groupby operation on 'Area'. Which of these Areas had the 7th lowest sum in 2017?\n",
    "select_data = df[['Y2017', 'Area']]\n",
    "grp_data = select_data.groupby('Area')['Y2017'].sum()\n",
    "arrange_data = grp_data.sort_values(ascending=True)"
   ]
  },
  {
   "cell_type": "code",
   "execution_count": null,
   "metadata": {},
   "outputs": [],
   "source": [
    "arrange_data"
   ]
  },
  {
   "cell_type": "code",
   "execution_count": null,
   "metadata": {},
   "outputs": [],
   "source": [
    "#Q12\n",
    "# To determine the area with the 7th Lowest sum\n",
    "lowest_sum = arrange_data.iloc[6]\n",
    "print(lowest_sum)"
   ]
  },
  {
   "cell_type": "code",
   "execution_count": null,
   "metadata": {},
   "outputs": [],
   "source": [
    "#Q2\n",
    "# Given the following python code, what would the output of the code give?\n",
    "my_tuppy = (1,2,5,8)\n",
    "my_tuppy[2] = 6"
   ]
  },
  {
   "cell_type": "code",
   "execution_count": null,
   "metadata": {},
   "outputs": [],
   "source": [
    "df.shape"
   ]
  },
  {
   "cell_type": "code",
   "execution_count": null,
   "metadata": {},
   "outputs": [],
   "source": [
    "#Q9\n",
    "# What is the total number and percentage of missing data in 2014 to 3 decimal places?\n",
    "df.isnull().sum()"
   ]
  },
  {
   "cell_type": "code",
   "execution_count": null,
   "metadata": {},
   "outputs": [],
   "source": [
    "#Q11\n",
    "# What is the total number of unique countries in the dataset?\n",
    "# Use groupby() to identify the unique countries\n",
    "\n",
    "countries = df.groupby('Area').count()\n",
    "total_countries = len(countries)"
   ]
  },
  {
   "cell_type": "code",
   "execution_count": null,
   "metadata": {},
   "outputs": [],
   "source": [
    "len(countries)"
   ]
  },
  {
   "cell_type": "code",
   "execution_count": null,
   "metadata": {},
   "outputs": [],
   "source": [
    "year_2017"
   ]
  },
  {
   "cell_type": "code",
   "execution_count": null,
   "metadata": {},
   "outputs": [],
   "source": [
    "sum_process = year_2017.sort_values(ascending=True)"
   ]
  },
  {
   "cell_type": "code",
   "execution_count": null,
   "metadata": {},
   "outputs": [],
   "source": [
    "sum_process"
   ]
  },
  {
   "cell_type": "code",
   "execution_count": null,
   "metadata": {},
   "outputs": [],
   "source": [
    "#Q17\n",
    "# Given the Numpy array\n",
    "array  = np.array([[94, 89, 63],\n",
    "          [93, 92, 48],\n",
    "          [92, 94, 56]])\n",
    "# How would you select  the elements in bold and italics from the array?"
   ]
  },
  {
   "cell_type": "code",
   "execution_count": null,
   "metadata": {},
   "outputs": [],
   "source": [
    "array[: 2, 1 :]"
   ]
  },
  {
   "cell_type": "code",
   "execution_count": null,
   "metadata": {},
   "outputs": [],
   "source": [
    "#Q1\n",
    "# Which of these Areas had the highest sum in 2017?"
   ]
  },
  {
   "cell_type": "code",
   "execution_count": null,
   "metadata": {},
   "outputs": [],
   "source": [
    "year_2017 = df.groupby('Area')['Y2017'].sum()\n",
    "print(year_2017.idxmax())\n",
    "     \n",
    "Nigeria"
   ]
  },
  {
   "cell_type": "code",
   "execution_count": null,
   "metadata": {},
   "outputs": [],
   "source": [
    "#Q18\n",
    "# What year has the highest sum of Stock Variation?\n",
    "yr_2014 = df.groupby('Element')['Y2014'].sum()\n",
    "yr_2015 = df.groupby('Element')['Y2015'].sum()\n",
    "yr_2016 = df.groupby('Element')['Y2016'].sum()\n",
    "yr_2017 = df.groupby('Element')['Y2017'].sum()\n",
    "yr_2018 = df.groupby('Element')['Y2018'].sum()"
   ]
  },
  {
   "cell_type": "code",
   "execution_count": null,
   "metadata": {},
   "outputs": [],
   "source": [
    "yr_2014"
   ]
  },
  {
   "cell_type": "code",
   "execution_count": null,
   "metadata": {},
   "outputs": [],
   "source": [
    "yr_2015"
   ]
  },
  {
   "cell_type": "code",
   "execution_count": null,
   "metadata": {},
   "outputs": [],
   "source": [
    "yr_2016"
   ]
  },
  {
   "cell_type": "code",
   "execution_count": null,
   "metadata": {},
   "outputs": [],
   "source": [
    "yr_2017"
   ]
  },
  {
   "cell_type": "code",
   "execution_count": null,
   "metadata": {},
   "outputs": [],
   "source": [
    "yr_2018"
   ]
  },
  {
   "cell_type": "code",
   "execution_count": null,
   "metadata": {},
   "outputs": [],
   "source": [
    "#Q4\n",
    "# What would be the output for?\n",
    "S = [['him', 'sell'], [90, 28, 43]]\n",
    "S[0][1][1]"
   ]
  },
  {
   "cell_type": "code",
   "execution_count": null,
   "metadata": {},
   "outputs": [],
   "source": [
    "#Q7\n",
    "# What is the mean and standard deviation across the whole dataset for the year 2017 to 2 decimal places?\n",
    "m2017 = df['Y2017'].mean().round(2)\n",
    "std2017 = df['Y2017'].std().round(2)"
   ]
  },
  {
   "cell_type": "code",
   "execution_count": null,
   "metadata": {},
   "outputs": [],
   "source": [
    "m2017"
   ]
  },
  {
   "cell_type": "code",
   "execution_count": null,
   "metadata": {},
   "outputs": [],
   "source": [
    "std2017"
   ]
  },
  {
   "cell_type": "code",
   "execution_count": null,
   "metadata": {},
   "outputs": [],
   "source": [
    "#Q15\n",
    "# total Protein supply quantity in Madagascar in 2015?\n",
    "\n",
    "protein = df.groupby('Element')['Y2015'].sum()\n",
    "print(protein)"
   ]
  },
  {
   "cell_type": "code",
   "execution_count": null,
   "metadata": {},
   "outputs": [],
   "source": [
    "#Q3\n",
    "# Answer the following questions based on the African food production dataset provided by the FAO website already provided\n",
    "\n",
    "# What is the total sum of Wine produced in 2015 and 2018 respectively?\n",
    "\n",
    "# Hint: Perform a groupby sum aggregation on ‘Item’\n",
    "df[df['Item']=='Wine'].groupby(['Item', 'Y2015', 'Y2018'])['Y2015', 'Y2018'].sum().sum()\n",
    "# 4250.81 and 4035.32"
   ]
  },
  {
   "cell_type": "code",
   "execution_count": null,
   "metadata": {},
   "outputs": [],
   "source": [
    "#Q16\n",
    "# Perform a groupby operation on ‘Element’.  What is the total number of the sum of Processing in 2017?\n",
    "df[df['Element']=='Processing'].groupby(['Element', 'Y2017'])['Y2017'].sum().sum()\n",
    "# 292836.00"
   ]
  },
  {
   "cell_type": "code",
   "execution_count": null,
   "metadata": {},
   "outputs": [],
   "source": [
    "#Q19\n",
    "#Which year had the least correlation with ‘Element Code’?\n",
    "plt.figure(figsize=(14,12))\n",
    "corr_plot = df.corr()\n",
    "sns.heatmap(corr_plot, annot=True,  cmap=plt.cm.Reds)\n",
    "plt.show()\n",
    "\n",
    "#2016 = 0.023"
   ]
  },
  {
   "cell_type": "code",
   "execution_count": null,
   "metadata": {},
   "outputs": [],
   "source": [
    "#Q20\n",
    "#If you have the following list\n",
    "\n",
    "lst = [[35, 'Portugal', 94], [33, 'Argentina', 93], [30 , 'Brazil', 92]]\n",
    "\n",
    "col = ['Age','Nationality','Overall']\n",
    "\n",
    "#How do you create a pandas DataFrame using this list, to look like the table below?\n",
    "data = pd.DataFrame(lst, columns=col, index=[1,2,3])\n",
    "data"
   ]
  }
 ],
 "metadata": {
  "language_info": {
   "name": "python"
  }
 },
 "nbformat": 4,
 "nbformat_minor": 2
}
